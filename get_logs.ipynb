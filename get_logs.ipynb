{
 "cells": [
  {
   "cell_type": "code",
   "execution_count": null,
   "id": "119fb799",
   "metadata": {},
   "outputs": [
    {
     "name": "stdout",
     "output_type": "stream",
     "text": [
      "Log Summary:\n",
      "  INFO: 2\n",
      "  ERROR: 1\n",
      "  WARNING: 0\n",
      "\n",
      "Top 3 AI Responses:\n",
      "  \"Hello! How can I help you today?\" — 1 times\n",
      "  \"I'm sorry, I didn't understand that.\" — 1 times\n",
      "\n",
      "Errors:\n",
      "  Model Timeout after 5000ms — 1 times\n"
     ]
    }
   ],
   "source": [
    "import re\n",
    "\n",
    "logs = \"\"\"[2025-02-20 14:32:10] INFO - Agent Response: \"Hello! How can I help you today?\"\n",
    "[2025-02-20 14:33:15] ERROR - Model Timeout after 5000ms\n",
    "[2025-02-20 14:34:02] INFO - Agent Response: \"I'm sorry, I didn't understand that.\"\n",
    "\"\"\"\n",
    "\n",
    "\n",
    "entries = re.findall(r'\\[.*?\\]\\s*(INFO|ERROR|WARNING)\\s*-\\s*(.*)', logs)\n",
    "\n",
    "totals  = {'INFO':0, 'ERROR':0, 'WARNING':0}\n",
    "replies = {}\n",
    "errors  = {}\n",
    "\n",
    "for level, text in entries:\n",
    "    totals[level] += 1\n",
    "    if level == 'INFO':\n",
    "        m = re.search(r'\"(.+)\"', text)\n",
    "        if m:\n",
    "            rep = m.group(1)\n",
    "            replies[rep] = replies.get(rep, 0) + 1\n",
    "    elif level == 'ERROR':\n",
    "        errors[text] = errors.get(text, 0) + 1\n",
    "\n",
    "print(\"Log Summary:\")\n",
    "for lvl in ('INFO','ERROR','WARNING'):\n",
    "    print(f\"  {lvl}: {totals[lvl]}\")\n",
    "\n",
    "print(\"\\nTop 3 AI Responses:\")\n",
    "for resp, cnt in sorted(replies.items(), key=lambda x: -x[1])[:3]:\n",
    "    print(f\"  \\\"{resp}\\\" — {cnt} times\")\n",
    "\n",
    "print(\"\\nErrors:\")\n",
    "for err, cnt in sorted(errors.items(), key=lambda x: -x[1]):\n",
    "    print(f\"  {err} — {cnt} times\")"
   ]
  }
 ],
 "metadata": {
  "kernelspec": {
   "display_name": "Python 3",
   "language": "python",
   "name": "python3"
  },
  "language_info": {
   "codemirror_mode": {
    "name": "ipython",
    "version": 3
   },
   "file_extension": ".py",
   "mimetype": "text/x-python",
   "name": "python",
   "nbconvert_exporter": "python",
   "pygments_lexer": "ipython3",
   "version": "3.10.12"
  }
 },
 "nbformat": 4,
 "nbformat_minor": 5
}
